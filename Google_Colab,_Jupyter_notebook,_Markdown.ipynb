{
  "nbformat": 4,
  "nbformat_minor": 0,
  "metadata": {
    "colab": {
      "name": "Google Colab, Jupyter notebook, Markdown",
      "provenance": [],
      "collapsed_sections": [],
      "mount_file_id": "19QaSgGaDjwXC6TEJtvLQwY7GWEBA4I0_",
      "authorship_tag": "ABX9TyOO1K2CWs+VD6LYhEnL5k7q",
      "include_colab_link": true
    },
    "kernelspec": {
      "name": "python3",
      "display_name": "Python 3"
    },
    "language_info": {
      "name": "python"
    }
  },
  "cells": [
    {
      "cell_type": "markdown",
      "metadata": {
        "id": "view-in-github",
        "colab_type": "text"
      },
      "source": [
        "<a href=\"https://colab.research.google.com/github/verdantpond/080235/blob/master/Google_Colab%2C_Jupyter_notebook%2C_Markdown.ipynb\" target=\"_parent\"><img src=\"https://colab.research.google.com/assets/colab-badge.svg\" alt=\"Open In Colab\"/></a>"
      ]
    },
    {
      "cell_type": "markdown",
      "source": [
        "# 1. Google Colab"
      ],
      "metadata": {
        "id": "7a7ShmS2g8pb"
      }
    },
    {
      "cell_type": "markdown",
      "source": [
        "### (1) Google Colab의 특징\n",
        "  - 구글 클라우드 기반의 무료 개발 환경 서비스\n",
        "  - 환경설정 및 실행까지 매우 빠른 환경\n",
        "  - 딥러닝 실행이 가능한 정도의 고사양 환경 제공\n",
        "  - Jupyter Notebook환경 제공\n",
        "  - 대부분의 패키지들이 이미 설치된 환경 제공\n",
        "  - 여러 사용자와 동시에 사용 가능\n",
        "  - PC, 테블릿, 모바일 상관없이 인터넷 브라우저만 있으면 언제 어디서나 접속 가능\n",
        "  - 목차나 Markdown 미리 보기 등 다양한 기능 제공\n",
        "  - 구글 드라이브와 연동이 가능\n",
        "  - Git이나 Github와 쉽게 연동 가능"
      ],
      "metadata": {
        "id": "FmVzrQswhOkx"
      }
    },
    {
      "cell_type": "markdown",
      "source": [
        "### (2) Google Colab 주의사항\n",
        "  - 구글 계정 필요\n",
        "  - 최대 세션 유지시간이 존재(12시간)\n",
        "  - 세션이 종료되면 작업중이던 데이터는 모두 삭제\n",
        "  - 소스 코드는 구글 드라이브에 저장"
      ],
      "metadata": {
        "id": "2mq9hfZiiGeE"
      }
    },
    {
      "cell_type": "markdown",
      "source": [
        "### (3) Google Colab 사양"
      ],
      "metadata": {
        "id": "XkLacAlKiyie"
      }
    },
    {
      "cell_type": "markdown",
      "source": [
        "  - 플랫폼"
      ],
      "metadata": {
        "id": "q8Oa7SwRi9A0"
      }
    },
    {
      "cell_type": "code",
      "source": [
        "import platform\n",
        "platform.platform()"
      ],
      "metadata": {
        "colab": {
          "base_uri": "https://localhost:8080/",
          "height": 35
        },
        "id": "XqQtZy1Wi_wA",
        "outputId": "9a1b08c7-12ac-42fa-cf2a-7d4564e924a4"
      },
      "execution_count": 1,
      "outputs": [
        {
          "output_type": "execute_result",
          "data": {
            "application/vnd.google.colaboratory.intrinsic+json": {
              "type": "string"
            },
            "text/plain": [
              "'Linux-5.4.144+-x86_64-with-Ubuntu-18.04-bionic'"
            ]
          },
          "metadata": {},
          "execution_count": 1
        }
      ]
    },
    {
      "cell_type": "markdown",
      "source": [
        "  - 운영체제"
      ],
      "metadata": {
        "id": "p8JLjzN8jJQ6"
      }
    },
    {
      "cell_type": "code",
      "source": [
        "!cat /etc/issue.net"
      ],
      "metadata": {
        "colab": {
          "base_uri": "https://localhost:8080/"
        },
        "id": "yIVmGjiVjMcg",
        "outputId": "4bbc30ea-017e-463a-bf2d-ce857a1b9d40"
      },
      "execution_count": 2,
      "outputs": [
        {
          "output_type": "stream",
          "name": "stdout",
          "text": [
            "Ubuntu 18.04.5 LTS\n"
          ]
        }
      ]
    },
    {
      "cell_type": "markdown",
      "source": [
        "  - CPU 사양\n",
        "    - GenuineIntel 수시로 바뀜"
      ],
      "metadata": {
        "id": "XfBmNmNyjV0T"
      }
    },
    {
      "cell_type": "code",
      "source": [
        "!cat /proc/cpuinfo"
      ],
      "metadata": {
        "colab": {
          "base_uri": "https://localhost:8080/"
        },
        "id": "n-Zzs3QBjZjg",
        "outputId": "622a7c7b-b104-4396-8d34-199f26fcae3a"
      },
      "execution_count": 1,
      "outputs": [
        {
          "output_type": "stream",
          "name": "stdout",
          "text": [
            "processor\t: 0\n",
            "vendor_id\t: GenuineIntel\n",
            "cpu family\t: 6\n",
            "model\t\t: 79\n",
            "model name\t: Intel(R) Xeon(R) CPU @ 2.20GHz\n",
            "stepping\t: 0\n",
            "microcode\t: 0x1\n",
            "cpu MHz\t\t: 2199.998\n",
            "cache size\t: 56320 KB\n",
            "physical id\t: 0\n",
            "siblings\t: 2\n",
            "core id\t\t: 0\n",
            "cpu cores\t: 1\n",
            "apicid\t\t: 0\n",
            "initial apicid\t: 0\n",
            "fpu\t\t: yes\n",
            "fpu_exception\t: yes\n",
            "cpuid level\t: 13\n",
            "wp\t\t: yes\n",
            "flags\t\t: fpu vme de pse tsc msr pae mce cx8 apic sep mtrr pge mca cmov pat pse36 clflush mmx fxsr sse sse2 ss ht syscall nx pdpe1gb rdtscp lm constant_tsc rep_good nopl xtopology nonstop_tsc cpuid tsc_known_freq pni pclmulqdq ssse3 fma cx16 pcid sse4_1 sse4_2 x2apic movbe popcnt aes xsave avx f16c rdrand hypervisor lahf_lm abm 3dnowprefetch invpcid_single ssbd ibrs ibpb stibp fsgsbase tsc_adjust bmi1 hle avx2 smep bmi2 erms invpcid rtm rdseed adx smap xsaveopt arat md_clear arch_capabilities\n",
            "bugs\t\t: cpu_meltdown spectre_v1 spectre_v2 spec_store_bypass l1tf mds swapgs taa\n",
            "bogomips\t: 4399.99\n",
            "clflush size\t: 64\n",
            "cache_alignment\t: 64\n",
            "address sizes\t: 46 bits physical, 48 bits virtual\n",
            "power management:\n",
            "\n",
            "processor\t: 1\n",
            "vendor_id\t: GenuineIntel\n",
            "cpu family\t: 6\n",
            "model\t\t: 79\n",
            "model name\t: Intel(R) Xeon(R) CPU @ 2.20GHz\n",
            "stepping\t: 0\n",
            "microcode\t: 0x1\n",
            "cpu MHz\t\t: 2199.998\n",
            "cache size\t: 56320 KB\n",
            "physical id\t: 0\n",
            "siblings\t: 2\n",
            "core id\t\t: 0\n",
            "cpu cores\t: 1\n",
            "apicid\t\t: 1\n",
            "initial apicid\t: 1\n",
            "fpu\t\t: yes\n",
            "fpu_exception\t: yes\n",
            "cpuid level\t: 13\n",
            "wp\t\t: yes\n",
            "flags\t\t: fpu vme de pse tsc msr pae mce cx8 apic sep mtrr pge mca cmov pat pse36 clflush mmx fxsr sse sse2 ss ht syscall nx pdpe1gb rdtscp lm constant_tsc rep_good nopl xtopology nonstop_tsc cpuid tsc_known_freq pni pclmulqdq ssse3 fma cx16 pcid sse4_1 sse4_2 x2apic movbe popcnt aes xsave avx f16c rdrand hypervisor lahf_lm abm 3dnowprefetch invpcid_single ssbd ibrs ibpb stibp fsgsbase tsc_adjust bmi1 hle avx2 smep bmi2 erms invpcid rtm rdseed adx smap xsaveopt arat md_clear arch_capabilities\n",
            "bugs\t\t: cpu_meltdown spectre_v1 spectre_v2 spec_store_bypass l1tf mds swapgs taa\n",
            "bogomips\t: 4399.99\n",
            "clflush size\t: 64\n",
            "cache_alignment\t: 64\n",
            "address sizes\t: 46 bits physical, 48 bits virtual\n",
            "power management:\n",
            "\n"
          ]
        }
      ]
    },
    {
      "cell_type": "markdown",
      "source": [
        "  - 메모리 사양"
      ],
      "metadata": {
        "id": "X79ZboumjVgM"
      }
    },
    {
      "cell_type": "code",
      "source": [
        "!cat /proc/meminfo"
      ],
      "metadata": {
        "colab": {
          "base_uri": "https://localhost:8080/"
        },
        "id": "VCMOo20GkHLs",
        "outputId": "febc9d4b-30eb-4fe5-bc31-ecd5abf2e278"
      },
      "execution_count": 4,
      "outputs": [
        {
          "output_type": "stream",
          "name": "stdout",
          "text": [
            "MemTotal:       13302920 kB\n",
            "MemFree:        10675776 kB\n",
            "MemAvailable:   12441292 kB\n",
            "Buffers:          143560 kB\n",
            "Cached:          1749524 kB\n",
            "SwapCached:            0 kB\n",
            "Active:          1049140 kB\n",
            "Inactive:        1364848 kB\n",
            "Active(anon):     463988 kB\n",
            "Inactive(anon):      484 kB\n",
            "Active(file):     585152 kB\n",
            "Inactive(file):  1364364 kB\n",
            "Unevictable:           0 kB\n",
            "Mlocked:               0 kB\n",
            "SwapTotal:             0 kB\n",
            "SwapFree:              0 kB\n",
            "Dirty:              1344 kB\n",
            "Writeback:             0 kB\n",
            "AnonPages:        520956 kB\n",
            "Mapped:           254376 kB\n",
            "Shmem:              1176 kB\n",
            "KReclaimable:     114948 kB\n",
            "Slab:             158760 kB\n",
            "SReclaimable:     114948 kB\n",
            "SUnreclaim:        43812 kB\n",
            "KernelStack:        4976 kB\n",
            "PageTables:         7428 kB\n",
            "NFS_Unstable:          0 kB\n",
            "Bounce:                0 kB\n",
            "WritebackTmp:          0 kB\n",
            "CommitLimit:     6651460 kB\n",
            "Committed_AS:    3218308 kB\n",
            "VmallocTotal:   34359738367 kB\n",
            "VmallocUsed:        7328 kB\n",
            "VmallocChunk:          0 kB\n",
            "Percpu:             1448 kB\n",
            "AnonHugePages:      2048 kB\n",
            "ShmemHugePages:        0 kB\n",
            "ShmemPmdMapped:        0 kB\n",
            "FileHugePages:         0 kB\n",
            "FilePmdMapped:         0 kB\n",
            "CmaTotal:              0 kB\n",
            "CmaFree:               0 kB\n",
            "HugePages_Total:       0\n",
            "HugePages_Free:        0\n",
            "HugePages_Rsvd:        0\n",
            "HugePages_Surp:        0\n",
            "Hugepagesize:       2048 kB\n",
            "Hugetlb:               0 kB\n",
            "DirectMap4k:       88896 kB\n",
            "DirectMap2M:     5150720 kB\n",
            "DirectMap1G:    10485760 kB\n"
          ]
        }
      ]
    },
    {
      "cell_type": "markdown",
      "source": [
        "  - 디스크 사양"
      ],
      "metadata": {
        "id": "pAWRkThuj9z7"
      }
    },
    {
      "cell_type": "code",
      "source": [
        "!df -h"
      ],
      "metadata": {
        "colab": {
          "base_uri": "https://localhost:8080/"
        },
        "id": "Di_D_fE1kIYc",
        "outputId": "98e0551e-8359-47d9-fb42-4b0314e0851d"
      },
      "execution_count": 5,
      "outputs": [
        {
          "output_type": "stream",
          "name": "stdout",
          "text": [
            "Filesystem      Size  Used Avail Use% Mounted on\n",
            "overlay         226G   42G  184G  19% /\n",
            "tmpfs            64M     0   64M   0% /dev\n",
            "shm             5.8G     0  5.8G   0% /dev/shm\n",
            "/dev/root       2.0G  1.2G  817M  59% /sbin/docker-init\n",
            "tmpfs           6.4G   36K  6.4G   1% /var/colab\n",
            "/dev/sda1       233G   45G  188G  20% /etc/hosts\n",
            "tmpfs           6.4G     0  6.4G   0% /proc/acpi\n",
            "tmpfs           6.4G     0  6.4G   0% /proc/scsi\n",
            "tmpfs           6.4G     0  6.4G   0% /sys/firmware\n"
          ]
        }
      ]
    },
    {
      "cell_type": "markdown",
      "source": [
        "  - 파이썬 사양"
      ],
      "metadata": {
        "id": "5iwX_6Rtj-VO"
      }
    },
    {
      "cell_type": "code",
      "source": [
        "!python --version"
      ],
      "metadata": {
        "colab": {
          "base_uri": "https://localhost:8080/"
        },
        "id": "v6Rbz5hfkJAK",
        "outputId": "606e927a-933f-413e-9576-77806e57c093"
      },
      "execution_count": 6,
      "outputs": [
        {
          "output_type": "stream",
          "name": "stdout",
          "text": [
            "Python 3.7.12\n"
          ]
        }
      ]
    },
    {
      "cell_type": "markdown",
      "source": [
        "### (4) Google Colab 런타임\n",
        "  - Colab에서 고성능 하드웨어로 GPU나 TPU 사용 가능\n",
        "  - 런타임 유형 변경 필요\n",
        "    - None : CPU만 사용\n",
        "    - GPU : 하드웨어 가속으로 GPU 사용\n",
        "    - TPU : 하드웨어 가속으로 TPU 사용"
      ],
      "metadata": {
        "id": "-0ZreYQRj-3P"
      }
    },
    {
      "cell_type": "code",
      "source": [
        "!nvidia-smi"
      ],
      "metadata": {
        "colab": {
          "base_uri": "https://localhost:8080/"
        },
        "id": "3edo2wuqlQ9z",
        "outputId": "8a071e73-17ed-4983-bd1c-001c1593742a"
      },
      "execution_count": 2,
      "outputs": [
        {
          "output_type": "stream",
          "name": "stdout",
          "text": [
            "Mon Feb 14 04:56:23 2022       \n",
            "+-----------------------------------------------------------------------------+\n",
            "| NVIDIA-SMI 460.32.03    Driver Version: 460.32.03    CUDA Version: 11.2     |\n",
            "|-------------------------------+----------------------+----------------------+\n",
            "| GPU  Name        Persistence-M| Bus-Id        Disp.A | Volatile Uncorr. ECC |\n",
            "| Fan  Temp  Perf  Pwr:Usage/Cap|         Memory-Usage | GPU-Util  Compute M. |\n",
            "|                               |                      |               MIG M. |\n",
            "|===============================+======================+======================|\n",
            "|   0  Tesla T4            Off  | 00000000:00:04.0 Off |                    0 |\n",
            "| N/A   39C    P8     9W /  70W |      0MiB / 15109MiB |      0%      Default |\n",
            "|                               |                      |                  N/A |\n",
            "+-------------------------------+----------------------+----------------------+\n",
            "                                                                               \n",
            "+-----------------------------------------------------------------------------+\n",
            "| Processes:                                                                  |\n",
            "|  GPU   GI   CI        PID   Type   Process name                  GPU Memory |\n",
            "|        ID   ID                                                   Usage      |\n",
            "|=============================================================================|\n",
            "|  No running processes found                                                 |\n",
            "+-----------------------------------------------------------------------------+\n"
          ]
        }
      ]
    },
    {
      "cell_type": "markdown",
      "source": [
        "### (5) 파일 저장 및 다운로드/업로드\n",
        "  - Jupyter Notebook 환경에서 파일 저장 및 다운로드"
      ],
      "metadata": {
        "id": "ZGmGgU_5lFnB"
      }
    },
    {
      "cell_type": "code",
      "source": [
        "%%writefile test.txt\n",
        "text"
      ],
      "metadata": {
        "colab": {
          "base_uri": "https://localhost:8080/"
        },
        "id": "jcIiy8hdl6UG",
        "outputId": "7d3d66de-204d-40b1-aefb-6d29d6158efc"
      },
      "execution_count": 21,
      "outputs": [
        {
          "output_type": "stream",
          "name": "stdout",
          "text": [
            "Writing test.txt\n"
          ]
        }
      ]
    },
    {
      "cell_type": "code",
      "source": [
        "!cat test.txt"
      ],
      "metadata": {
        "colab": {
          "base_uri": "https://localhost:8080/"
        },
        "id": "K8_Ktd67l6Il",
        "outputId": "2124a2c3-7512-4f60-fcad-ef8a97a5aa0e"
      },
      "execution_count": 22,
      "outputs": [
        {
          "output_type": "stream",
          "name": "stdout",
          "text": [
            "text"
          ]
        }
      ]
    },
    {
      "cell_type": "code",
      "source": [
        "from google.colab import files\n",
        "files.download('test.txt')"
      ],
      "metadata": {
        "colab": {
          "base_uri": "https://localhost:8080/",
          "height": 17
        },
        "id": "ucPJPERSl58E",
        "outputId": "9df95620-77d6-47f5-b992-f7f362846850"
      },
      "execution_count": 23,
      "outputs": [
        {
          "output_type": "display_data",
          "data": {
            "application/javascript": [
              "\n",
              "    async function download(id, filename, size) {\n",
              "      if (!google.colab.kernel.accessAllowed) {\n",
              "        return;\n",
              "      }\n",
              "      const div = document.createElement('div');\n",
              "      const label = document.createElement('label');\n",
              "      label.textContent = `Downloading \"${filename}\": `;\n",
              "      div.appendChild(label);\n",
              "      const progress = document.createElement('progress');\n",
              "      progress.max = size;\n",
              "      div.appendChild(progress);\n",
              "      document.body.appendChild(div);\n",
              "\n",
              "      const buffers = [];\n",
              "      let downloaded = 0;\n",
              "\n",
              "      const channel = await google.colab.kernel.comms.open(id);\n",
              "      // Send a message to notify the kernel that we're ready.\n",
              "      channel.send({})\n",
              "\n",
              "      for await (const message of channel.messages) {\n",
              "        // Send a message to notify the kernel that we're ready.\n",
              "        channel.send({})\n",
              "        if (message.buffers) {\n",
              "          for (const buffer of message.buffers) {\n",
              "            buffers.push(buffer);\n",
              "            downloaded += buffer.byteLength;\n",
              "            progress.value = downloaded;\n",
              "          }\n",
              "        }\n",
              "      }\n",
              "      const blob = new Blob(buffers, {type: 'application/binary'});\n",
              "      const a = document.createElement('a');\n",
              "      a.href = window.URL.createObjectURL(blob);\n",
              "      a.download = filename;\n",
              "      div.appendChild(a);\n",
              "      a.click();\n",
              "      div.remove();\n",
              "    }\n",
              "  "
            ],
            "text/plain": [
              "<IPython.core.display.Javascript object>"
            ]
          },
          "metadata": {}
        },
        {
          "output_type": "display_data",
          "data": {
            "application/javascript": [
              "download(\"download_0d2f188f-f399-4ee2-b360-1bde1c30761d\", \"test.txt\", 4)"
            ],
            "text/plain": [
              "<IPython.core.display.Javascript object>"
            ]
          },
          "metadata": {}
        }
      ]
    },
    {
      "cell_type": "code",
      "source": [
        "upload = files.upload()"
      ],
      "metadata": {
        "colab": {
          "resources": {
            "http://localhost:8080/nbextensions/google.colab/files.js": {
              "data": "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",
              "ok": true,
              "headers": [
                [
                  "content-type",
                  "application/javascript"
                ]
              ],
              "status": 200,
              "status_text": ""
            }
          },
          "base_uri": "https://localhost:8080/",
          "height": 94
        },
        "id": "Xk-ts1lAl5sD",
        "outputId": "e11f7a86-2661-4c77-ade3-1555d56d43ee"
      },
      "execution_count": 8,
      "outputs": [
        {
          "output_type": "display_data",
          "data": {
            "text/html": [
              "\n",
              "     <input type=\"file\" id=\"files-10a40b7e-80ad-41fc-862a-435e82f04048\" name=\"files[]\" multiple disabled\n",
              "        style=\"border:none\" />\n",
              "     <output id=\"result-10a40b7e-80ad-41fc-862a-435e82f04048\">\n",
              "      Upload widget is only available when the cell has been executed in the\n",
              "      current browser session. Please rerun this cell to enable.\n",
              "      </output>\n",
              "      <script src=\"/nbextensions/google.colab/files.js\"></script> "
            ],
            "text/plain": [
              "<IPython.core.display.HTML object>"
            ]
          },
          "metadata": {}
        },
        {
          "output_type": "stream",
          "name": "stdout",
          "text": [
            "Saving sample_data.csv to sample_data.csv\n"
          ]
        }
      ]
    },
    {
      "cell_type": "markdown",
      "source": [
        "### (6) Google Drive 연동\n",
        "  - Google Colab은 Google Drive와 mount를 통해 쉽게 연동 가능\n",
        "  - Google Drive에 소스 코드 저장 뿐만 아니라 파일을 열거나 저장 가능"
      ],
      "metadata": {
        "id": "ul6fWaelnJJY"
      }
    },
    {
      "cell_type": "code",
      "source": [
        "from google.colab import drive\n",
        "drive.mount('/content/drive')   # 지정한 경로로 마운트 된다."
      ],
      "metadata": {
        "colab": {
          "base_uri": "https://localhost:8080/"
        },
        "id": "jQusD71Pl5JU",
        "outputId": "fef20d2e-17c4-45bd-f989-37700e1ca1d4"
      },
      "execution_count": 24,
      "outputs": [
        {
          "output_type": "stream",
          "name": "stdout",
          "text": [
            "Mounted at /content/drive\n"
          ]
        }
      ]
    },
    {
      "cell_type": "code",
      "source": [
        "!ls /content/drive"
      ],
      "metadata": {
        "colab": {
          "base_uri": "https://localhost:8080/"
        },
        "id": "QbuY1rdPn8Uz",
        "outputId": "733bf3bb-bab7-452a-8b56-6d852eefd71f"
      },
      "execution_count": 25,
      "outputs": [
        {
          "output_type": "stream",
          "name": "stdout",
          "text": [
            "MyDrive\n"
          ]
        }
      ]
    },
    {
      "cell_type": "code",
      "source": [
        "!pwd"
      ],
      "metadata": {
        "colab": {
          "base_uri": "https://localhost:8080/"
        },
        "id": "7rGUKKiToF3I",
        "outputId": "a2e9f902-173b-4c82-aae5-6462aead7c29"
      },
      "execution_count": 26,
      "outputs": [
        {
          "output_type": "stream",
          "name": "stdout",
          "text": [
            "/content\n"
          ]
        }
      ]
    },
    {
      "cell_type": "markdown",
      "source": [
        "# 2. Jupyter Notebook"
      ],
      "metadata": {
        "id": "MFdfdNskhDXX"
      }
    },
    {
      "cell_type": "markdown",
      "source": [
        "  - IPython Shell의 브라우저 기반 그래픽 인터페이스\n",
        "  - 파이썬과 IPython 문장 실행\n",
        "  - 서식 있는 텍스트와 정적/동적 시각화, 수학 공식 표현"
      ],
      "metadata": {
        "id": "2v_cqIM0oQM3"
      }
    },
    {
      "cell_type": "markdown",
      "source": [
        "### (1) help()\n",
        "  - 파이썬 객체에 대한 요약 정보와 사용법 보기"
      ],
      "metadata": {
        "id": "gqlffKYyomjS"
      }
    },
    {
      "cell_type": "code",
      "source": [
        "help(min)"
      ],
      "metadata": {
        "colab": {
          "base_uri": "https://localhost:8080/"
        },
        "id": "KCWNTeATpF3g",
        "outputId": "53225bec-06fe-4b39-b8c5-f65bc2e404e5"
      },
      "execution_count": 27,
      "outputs": [
        {
          "output_type": "stream",
          "name": "stdout",
          "text": [
            "Help on built-in function min in module builtins:\n",
            "\n",
            "min(...)\n",
            "    min(iterable, *[, default=obj, key=func]) -> value\n",
            "    min(arg1, arg2, *args, *[, key=func]) -> value\n",
            "    \n",
            "    With a single iterable argument, return its smallest item. The\n",
            "    default keyword-only argument specifies an object to return if\n",
            "    the provided iterable is empty.\n",
            "    With two or more arguments, return the smallest argument.\n",
            "\n"
          ]
        }
      ]
    },
    {
      "cell_type": "markdown",
      "source": [
        "### (2) ?로 설명 보기\n",
        "  - 객체 요약 정보 및 사용법이 있는 docstring 보기"
      ],
      "metadata": {
        "id": "U3KX4XY5ornl"
      }
    },
    {
      "cell_type": "code",
      "source": [
        "min?"
      ],
      "metadata": {
        "id": "fOksh-bQpa1h"
      },
      "execution_count": 29,
      "outputs": []
    },
    {
      "cell_type": "code",
      "source": [
        "li = ['One', 'Two', 'Three']\n",
        "li?"
      ],
      "metadata": {
        "id": "Q15BJwbCpssu"
      },
      "execution_count": 30,
      "outputs": []
    },
    {
      "cell_type": "code",
      "source": [
        "li.count?"
      ],
      "metadata": {
        "id": "45T_4iptqBjS"
      },
      "execution_count": 31,
      "outputs": []
    },
    {
      "cell_type": "code",
      "source": [
        "def power(b, n):\n",
        "  '''b의 n승을 반환'''\n",
        "  return pow(b,n)"
      ],
      "metadata": {
        "id": "j7NAu8EYqBvo"
      },
      "execution_count": 32,
      "outputs": []
    },
    {
      "cell_type": "code",
      "source": [
        "power?"
      ],
      "metadata": {
        "id": "aPqEaqbaqT33"
      },
      "execution_count": 33,
      "outputs": []
    },
    {
      "cell_type": "code",
      "source": [
        "power??"
      ],
      "metadata": {
        "id": "Arhi6sZFqB7r"
      },
      "execution_count": 34,
      "outputs": []
    },
    {
      "cell_type": "markdown",
      "source": [
        "### (3) 탭(tab) 자동완성\n",
        "  - 객체와 모듈, 인터페이스의 내용을 자동 완성"
      ],
      "metadata": {
        "id": "B05eQ5G-ovR2"
      }
    },
    {
      "cell_type": "code",
      "source": [
        "li = ['One', 'Two', 'Three']\n",
        "li.append\n",
        "li.copy\n",
        "li.count"
      ],
      "metadata": {
        "colab": {
          "base_uri": "https://localhost:8080/"
        },
        "id": "1QayJSGnpi9O",
        "outputId": "53c62a1c-d2c2-4a22-84a2-568ce9ed3a8c"
      },
      "execution_count": 35,
      "outputs": [
        {
          "output_type": "execute_result",
          "data": {
            "text/plain": [
              "<function list.count>"
            ]
          },
          "metadata": {},
          "execution_count": 35
        }
      ]
    },
    {
      "cell_type": "markdown",
      "source": [
        "### (4) 와일드카드(wildcard) 매칭\n",
        "  - 단어의 중간이나 마지막 글자로 매칭하여 객체나 속성 찾기"
      ],
      "metadata": {
        "id": "856nPT8vo0iI"
      }
    },
    {
      "cell_type": "code",
      "source": [
        "*Error?"
      ],
      "metadata": {
        "id": "eWSiczz9pjV8"
      },
      "execution_count": 36,
      "outputs": []
    },
    {
      "cell_type": "code",
      "source": [
        "str.*index*?"
      ],
      "metadata": {
        "id": "vVRXOyTyv7zd"
      },
      "execution_count": 37,
      "outputs": []
    },
    {
      "cell_type": "markdown",
      "source": [
        "### (5) 매직 명령어(magic commands)\n",
        "     - % 한 줄 파이썬 명령어\n",
        "     - %% 여러 중 파이썬 명령어\n",
        "  - Jupyter Notebook 환경에서 파이썬 파일 저장 및 실행"
      ],
      "metadata": {
        "id": "5wyLD7CZo7Os"
      }
    },
    {
      "cell_type": "code",
      "source": [
        "%%writefile test.py\n",
        "print('Hello Colab')"
      ],
      "metadata": {
        "colab": {
          "base_uri": "https://localhost:8080/"
        },
        "id": "fs--v_E4pjtl",
        "outputId": "92eb309c-72c2-4f39-e344-567b82a58cec"
      },
      "execution_count": 38,
      "outputs": [
        {
          "output_type": "stream",
          "name": "stdout",
          "text": [
            "Overwriting test.py\n"
          ]
        }
      ]
    },
    {
      "cell_type": "code",
      "source": [
        "%run test.py"
      ],
      "metadata": {
        "colab": {
          "base_uri": "https://localhost:8080/"
        },
        "id": "zdIqm0qQwq-U",
        "outputId": "d51bb052-dcf1-4aa5-e637-fa1332a254b3"
      },
      "execution_count": 39,
      "outputs": [
        {
          "output_type": "stream",
          "name": "stdout",
          "text": [
            "Hello Colab\n"
          ]
        }
      ]
    },
    {
      "cell_type": "markdown",
      "source": [
        "  - 코드 실행시간 측정"
      ],
      "metadata": {
        "id": "_jDsapCuwr7p"
      }
    },
    {
      "cell_type": "code",
      "source": [
        "%%timeit?"
      ],
      "metadata": {
        "id": "E7szEH8LwrCk"
      },
      "execution_count": 11,
      "outputs": []
    },
    {
      "cell_type": "code",
      "source": [
        "%timeit li = [n ** n for n in range(10000)]"
      ],
      "metadata": {
        "colab": {
          "base_uri": "https://localhost:8080/"
        },
        "id": "E5_Z1sK2wrI3",
        "outputId": "d5c2ad41-c438-4b1c-b2ea-efa58ac36706"
      },
      "execution_count": 50,
      "outputs": [
        {
          "output_type": "stream",
          "name": "stdout",
          "text": [
            "1 loop, best of 5: 6.59 s per loop\n"
          ]
        }
      ]
    },
    {
      "cell_type": "code",
      "source": [
        "%%timeit\n",
        "li = []\n",
        "for n in range(10000):\n",
        "  li.append(n ** n)"
      ],
      "metadata": {
        "colab": {
          "base_uri": "https://localhost:8080/"
        },
        "id": "kbgAcD-3x4i_",
        "outputId": "2f4227ea-57d7-426b-ec32-d596c05c3718"
      },
      "execution_count": 13,
      "outputs": [
        {
          "output_type": "stream",
          "name": "stdout",
          "text": [
            "1 loop, best of 5: 6.59 s per loop\n"
          ]
        }
      ]
    },
    {
      "cell_type": "markdown",
      "source": [
        "### (6) 입력과 출력 이력\n",
        "  - In과 Out 객체를 통해 이전 명령어와 명령어의 출력 결과 보기"
      ],
      "metadata": {
        "id": "-uu9OyKdpBOQ"
      }
    },
    {
      "cell_type": "code",
      "source": [
        "In"
      ],
      "metadata": {
        "colab": {
          "base_uri": "https://localhost:8080/"
        },
        "id": "Ht85z3FZpkdt",
        "outputId": "7b55f963-db57-4256-89c4-0ed466211941"
      },
      "execution_count": 49,
      "outputs": [
        {
          "output_type": "execute_result",
          "data": {
            "text/plain": [
              "['',\n",
              " 'import platform\\nplatform.platform()',\n",
              " \"get_ipython().system('cat /etc/issue.net')\",\n",
              " \"get_ipython().system('cat /proc/cpuinfo')\",\n",
              " \"get_ipython().system('cat /proc/meminfo')\",\n",
              " \"get_ipython().system('df -h')\",\n",
              " \"get_ipython().system('python --version')\",\n",
              " \"get_ipython().magic('psearch *Error')\",\n",
              " \"get_ipython().magic('psearch str.*index*')\",\n",
              " 'get_ipython().run_cell_magic(\\'writefile\\', \\'test.py\\', \"print(\\'Hello Colab\\')\")',\n",
              " \"get_ipython().magic('run test.py')\",\n",
              " \"get_ipython().magic('pinfo %%timeit')\",\n",
              " \"get_ipython().magic('timeit li = [n ** n for n in range(10000)]')\",\n",
              " \"get_ipython().run_cell_magic('timeit', '', 'li = []\\\\nfor n in range(10000):\\\\n  li.append(n ** n)')\",\n",
              " 'In',\n",
              " 'In[11]',\n",
              " 'Out()',\n",
              " 'Out',\n",
              " 'Out[11]',\n",
              " 'Out[12]',\n",
              " 'Out[13]',\n",
              " \"get_ipython().run_cell_magic('writefile', 'test.txt', 'text')\",\n",
              " \"get_ipython().system('cat test.txt')\",\n",
              " \"from google.colab import files\\nfiles.download('test.txt')\",\n",
              " \"from google.colab import drive\\ndrive.mount('/content/drive')   # 지정한 경로로 마운트 된다.\",\n",
              " \"get_ipython().system('ls /content/drive')\",\n",
              " \"get_ipython().system('pwd')\",\n",
              " 'help(min)',\n",
              " 'Out[26]',\n",
              " \"get_ipython().magic('pinfo min')\",\n",
              " \"li = ['One', 'Two', 'Three']\\nget_ipython().magic('pinfo li')\",\n",
              " \"get_ipython().magic('pinfo li.count')\",\n",
              " \"def power(b, n):\\n  '''b의 n승을 반환'''\\n  return pow(b,n)\",\n",
              " \"get_ipython().magic('pinfo power')\",\n",
              " \"get_ipython().magic('pinfo2 power')\",\n",
              " \"li = ['One', 'Two', 'Three']\\nli.append\\nli.copy\\nli.count\",\n",
              " \"get_ipython().magic('psearch *Error')\",\n",
              " \"get_ipython().magic('psearch str.*index*')\",\n",
              " 'get_ipython().run_cell_magic(\\'writefile\\', \\'test.py\\', \"print(\\'Hello Colab\\')\")',\n",
              " \"get_ipython().magic('run test.py')\",\n",
              " 'Out[38]',\n",
              " 'Out',\n",
              " 'Out[3]',\n",
              " 'print(\"In[31]: \" + In[31]+ \"Out[31]: \" + Out[31]  )',\n",
              " 'Out[32]',\n",
              " 'Out[33]',\n",
              " 'print(_)',\n",
              " 'Out',\n",
              " 'print(_)',\n",
              " 'In']"
            ]
          },
          "metadata": {},
          "execution_count": 49
        }
      ]
    },
    {
      "cell_type": "code",
      "source": [
        "In[11]"
      ],
      "metadata": {
        "colab": {
          "base_uri": "https://localhost:8080/",
          "height": 35
        },
        "id": "dMVMhmyzzcIA",
        "outputId": "69ad5591-3713-4bd0-c845-6846eb2e8cf4"
      },
      "execution_count": 15,
      "outputs": [
        {
          "output_type": "execute_result",
          "data": {
            "application/vnd.google.colaboratory.intrinsic+json": {
              "type": "string"
            },
            "text/plain": [
              "\"get_ipython().magic('pinfo %%timeit')\""
            ]
          },
          "metadata": {},
          "execution_count": 15
        }
      ]
    },
    {
      "cell_type": "code",
      "source": [
        "Out"
      ],
      "metadata": {
        "colab": {
          "base_uri": "https://localhost:8080/"
        },
        "id": "v6uLKE9EzcMG",
        "outputId": "7e4a9e3c-bd8b-438a-9fdc-fa89394e76f9"
      },
      "execution_count": 47,
      "outputs": [
        {
          "output_type": "execute_result",
          "data": {
            "text/plain": [
              "{1: 'Linux-5.4.144+-x86_64-with-Ubuntu-18.04-bionic',\n",
              " 14: ['',\n",
              "  'import platform\\nplatform.platform()',\n",
              "  \"get_ipython().system('cat /etc/issue.net')\",\n",
              "  \"get_ipython().system('cat /proc/cpuinfo')\",\n",
              "  \"get_ipython().system('cat /proc/meminfo')\",\n",
              "  \"get_ipython().system('df -h')\",\n",
              "  \"get_ipython().system('python --version')\",\n",
              "  \"get_ipython().magic('psearch *Error')\",\n",
              "  \"get_ipython().magic('psearch str.*index*')\",\n",
              "  'get_ipython().run_cell_magic(\\'writefile\\', \\'test.py\\', \"print(\\'Hello Colab\\')\")',\n",
              "  \"get_ipython().magic('run test.py')\",\n",
              "  \"get_ipython().magic('pinfo %%timeit')\",\n",
              "  \"get_ipython().magic('timeit li = [n ** n for n in range(10000)]')\",\n",
              "  \"get_ipython().run_cell_magic('timeit', '', 'li = []\\\\nfor n in range(10000):\\\\n  li.append(n ** n)')\",\n",
              "  'In',\n",
              "  'In[11]',\n",
              "  'Out()',\n",
              "  'Out',\n",
              "  'Out[11]',\n",
              "  'Out[12]',\n",
              "  'Out[13]',\n",
              "  \"get_ipython().run_cell_magic('writefile', 'test.txt', 'text')\",\n",
              "  \"get_ipython().system('cat test.txt')\",\n",
              "  \"from google.colab import files\\nfiles.download('test.txt')\",\n",
              "  \"from google.colab import drive\\ndrive.mount('/content/drive')   # 지정한 경로로 마운트 된다.\",\n",
              "  \"get_ipython().system('ls /content/drive')\",\n",
              "  \"get_ipython().system('pwd')\",\n",
              "  'help(min)',\n",
              "  'Out[26]',\n",
              "  \"get_ipython().magic('pinfo min')\",\n",
              "  \"li = ['One', 'Two', 'Three']\\nget_ipython().magic('pinfo li')\",\n",
              "  \"get_ipython().magic('pinfo li.count')\",\n",
              "  \"def power(b, n):\\n  '''b의 n승을 반환'''\\n  return pow(b,n)\",\n",
              "  \"get_ipython().magic('pinfo power')\",\n",
              "  \"get_ipython().magic('pinfo2 power')\",\n",
              "  \"li = ['One', 'Two', 'Three']\\nli.append\\nli.copy\\nli.count\",\n",
              "  \"get_ipython().magic('psearch *Error')\",\n",
              "  \"get_ipython().magic('psearch str.*index*')\",\n",
              "  'get_ipython().run_cell_magic(\\'writefile\\', \\'test.py\\', \"print(\\'Hello Colab\\')\")',\n",
              "  \"get_ipython().magic('run test.py')\",\n",
              "  'Out[38]',\n",
              "  'Out',\n",
              "  'Out[3]',\n",
              "  'print(\"In[31]: \" + In[31]+ \"Out[31]: \" + Out[31]  )',\n",
              "  'Out[32]',\n",
              "  'Out[33]',\n",
              "  'print(_)',\n",
              "  'Out'],\n",
              " 15: \"get_ipython().magic('pinfo %%timeit')\",\n",
              " 35: <function list.count>}"
            ]
          },
          "metadata": {},
          "execution_count": 47
        }
      ]
    },
    {
      "cell_type": "code",
      "source": [
        "Out[33]"
      ],
      "metadata": {
        "colab": {
          "base_uri": "https://localhost:8080/",
          "height": 174
        },
        "id": "FoHtXAR8zcmg",
        "outputId": "adb926e9-e462-45c4-9f6e-b36f5db819a3"
      },
      "execution_count": 45,
      "outputs": [
        {
          "output_type": "error",
          "ename": "KeyError",
          "evalue": "ignored",
          "traceback": [
            "\u001b[0;31m---------------------------------------------------------------------------\u001b[0m",
            "\u001b[0;31mKeyError\u001b[0m                                  Traceback (most recent call last)",
            "\u001b[0;32m<ipython-input-45-5121a5de072e>\u001b[0m in \u001b[0;36m<module>\u001b[0;34m()\u001b[0m\n\u001b[0;32m----> 1\u001b[0;31m \u001b[0mOut\u001b[0m\u001b[0;34m[\u001b[0m\u001b[0;36m33\u001b[0m\u001b[0;34m]\u001b[0m\u001b[0;34m\u001b[0m\u001b[0;34m\u001b[0m\u001b[0m\n\u001b[0m",
            "\u001b[0;31mKeyError\u001b[0m: 33"
          ]
        }
      ]
    },
    {
      "cell_type": "code",
      "source": [
        "print(\"In[31]: \" + In[31]+ \"Out[31]: \" + Out[31]  )"
      ],
      "metadata": {
        "colab": {
          "base_uri": "https://localhost:8080/",
          "height": 174
        },
        "id": "AEQ3ofux2DUq",
        "outputId": "cb77e4d2-bb07-4bf6-8cdd-25a3a8544887"
      },
      "execution_count": 43,
      "outputs": [
        {
          "output_type": "error",
          "ename": "KeyError",
          "evalue": "ignored",
          "traceback": [
            "\u001b[0;31m---------------------------------------------------------------------------\u001b[0m",
            "\u001b[0;31mKeyError\u001b[0m                                  Traceback (most recent call last)",
            "\u001b[0;32m<ipython-input-43-0e5ff6139328>\u001b[0m in \u001b[0;36m<module>\u001b[0;34m()\u001b[0m\n\u001b[0;32m----> 1\u001b[0;31m \u001b[0mprint\u001b[0m\u001b[0;34m(\u001b[0m\u001b[0;34m\"In[31]: \"\u001b[0m \u001b[0;34m+\u001b[0m \u001b[0mIn\u001b[0m\u001b[0;34m[\u001b[0m\u001b[0;36m31\u001b[0m\u001b[0;34m]\u001b[0m\u001b[0;34m+\u001b[0m \u001b[0;34m\"Out[31]: \"\u001b[0m \u001b[0;34m+\u001b[0m \u001b[0mOut\u001b[0m\u001b[0;34m[\u001b[0m\u001b[0;36m31\u001b[0m\u001b[0;34m]\u001b[0m  \u001b[0;34m)\u001b[0m\u001b[0;34m\u001b[0m\u001b[0;34m\u001b[0m\u001b[0m\n\u001b[0m",
            "\u001b[0;31mKeyError\u001b[0m: 31"
          ]
        }
      ]
    },
    {
      "cell_type": "markdown",
      "source": [
        "  - _를 이용해 이전 출력값 출력하기"
      ],
      "metadata": {
        "id": "HKm7G3oD2oaz"
      }
    },
    {
      "cell_type": "code",
      "source": [
        "print(_)"
      ],
      "metadata": {
        "colab": {
          "base_uri": "https://localhost:8080/"
        },
        "id": "5JUc-Hrh2yrI",
        "outputId": "59be0eac-4957-48de-bae3-525acaae2eea"
      },
      "execution_count": 51,
      "outputs": [
        {
          "output_type": "stream",
          "name": "stdout",
          "text": [
            "['', 'import platform\\nplatform.platform()', \"get_ipython().system('cat /etc/issue.net')\", \"get_ipython().system('cat /proc/cpuinfo')\", \"get_ipython().system('cat /proc/meminfo')\", \"get_ipython().system('df -h')\", \"get_ipython().system('python --version')\", \"get_ipython().magic('psearch *Error')\", \"get_ipython().magic('psearch str.*index*')\", 'get_ipython().run_cell_magic(\\'writefile\\', \\'test.py\\', \"print(\\'Hello Colab\\')\")', \"get_ipython().magic('run test.py')\", \"get_ipython().magic('pinfo %%timeit')\", \"get_ipython().magic('timeit li = [n ** n for n in range(10000)]')\", \"get_ipython().run_cell_magic('timeit', '', 'li = []\\\\nfor n in range(10000):\\\\n  li.append(n ** n)')\", 'In', 'In[11]', 'Out()', 'Out', 'Out[11]', 'Out[12]', 'Out[13]', \"get_ipython().run_cell_magic('writefile', 'test.txt', 'text')\", \"get_ipython().system('cat test.txt')\", \"from google.colab import files\\nfiles.download('test.txt')\", \"from google.colab import drive\\ndrive.mount('/content/drive')   # 지정한 경로로 마운트 된다.\", \"get_ipython().system('ls /content/drive')\", \"get_ipython().system('pwd')\", 'help(min)', 'Out[26]', \"get_ipython().magic('pinfo min')\", \"li = ['One', 'Two', 'Three']\\nget_ipython().magic('pinfo li')\", \"get_ipython().magic('pinfo li.count')\", \"def power(b, n):\\n  '''b의 n승을 반환'''\\n  return pow(b,n)\", \"get_ipython().magic('pinfo power')\", \"get_ipython().magic('pinfo2 power')\", \"li = ['One', 'Two', 'Three']\\nli.append\\nli.copy\\nli.count\", \"get_ipython().magic('psearch *Error')\", \"get_ipython().magic('psearch str.*index*')\", 'get_ipython().run_cell_magic(\\'writefile\\', \\'test.py\\', \"print(\\'Hello Colab\\')\")', \"get_ipython().magic('run test.py')\", 'Out[38]', 'Out', 'Out[3]', 'print(\"In[31]: \" + In[31]+ \"Out[31]: \" + Out[31]  )', 'Out[32]', 'Out[33]', 'print(_)', 'Out', 'print(_)', 'In', \"get_ipython().magic('timeit li = [n ** n for n in range(10000)]')\", 'print(_)']\n"
          ]
        }
      ]
    },
    {
      "cell_type": "code",
      "source": [
        "print(__)"
      ],
      "metadata": {
        "colab": {
          "base_uri": "https://localhost:8080/"
        },
        "id": "nOMXUr632w9x",
        "outputId": "097e7dfc-afda-4e77-d446-758fe81a406b"
      },
      "execution_count": 52,
      "outputs": [
        {
          "output_type": "stream",
          "name": "stdout",
          "text": [
            "<built-in method count of list object at 0x7f8bc2f3a690>\n"
          ]
        }
      ]
    },
    {
      "cell_type": "code",
      "source": [
        "print(___)"
      ],
      "metadata": {
        "colab": {
          "base_uri": "https://localhost:8080/"
        },
        "id": "-oomx_XV2xE9",
        "outputId": "1822e81e-070b-4649-84b0-a3bbb962bd06"
      },
      "execution_count": 53,
      "outputs": [
        {
          "output_type": "stream",
          "name": "stdout",
          "text": [
            "get_ipython().magic('pinfo %%timeit')\n"
          ]
        }
      ]
    },
    {
      "cell_type": "code",
      "source": [
        "_2"
      ],
      "metadata": {
        "colab": {
          "base_uri": "https://localhost:8080/",
          "height": 174
        },
        "id": "8aHgEepG2xPN",
        "outputId": "051c98db-5714-44bf-9cad-5e4dda665f1b"
      },
      "execution_count": 56,
      "outputs": [
        {
          "output_type": "error",
          "ename": "NameError",
          "evalue": "ignored",
          "traceback": [
            "\u001b[0;31m---------------------------------------------------------------------------\u001b[0m",
            "\u001b[0;31mNameError\u001b[0m                                 Traceback (most recent call last)",
            "\u001b[0;32m<ipython-input-56-725b9f20c2d7>\u001b[0m in \u001b[0;36m<module>\u001b[0;34m()\u001b[0m\n\u001b[0;32m----> 1\u001b[0;31m \u001b[0m_2\u001b[0m\u001b[0;34m\u001b[0m\u001b[0;34m\u001b[0m\u001b[0m\n\u001b[0m",
            "\u001b[0;31mNameError\u001b[0m: name '_2' is not defined"
          ]
        }
      ]
    },
    {
      "cell_type": "markdown",
      "source": [
        "  - %history를 이용한 입력 이력 살펴보기"
      ],
      "metadata": {
        "id": "pIjDWcu93zg4"
      }
    },
    {
      "cell_type": "code",
      "source": [
        "%history -n 1-7"
      ],
      "metadata": {
        "colab": {
          "base_uri": "https://localhost:8080/"
        },
        "id": "mj1o8E9F2xlA",
        "outputId": "b9844d58-38b8-47cd-c097-207afd91cab1"
      },
      "execution_count": 58,
      "outputs": [
        {
          "output_type": "stream",
          "name": "stdout",
          "text": [
            "   1:\n",
            "import platform\n",
            "platform.platform()\n",
            "   2: !cat /etc/issue.net\n",
            "   3: !cat /proc/cpuinfo\n",
            "   4: !cat /proc/meminfo\n",
            "   5: !df -h\n",
            "   6: !python --version\n",
            "   7: *Error?\n"
          ]
        }
      ]
    },
    {
      "cell_type": "markdown",
      "source": [
        "  - %rerun을 이용해 이전 입력 이력 다시 실행"
      ],
      "metadata": {
        "id": "vx_TJK6O37LA"
      }
    },
    {
      "cell_type": "code",
      "source": [
        "%rerun"
      ],
      "metadata": {
        "colab": {
          "base_uri": "https://localhost:8080/"
        },
        "id": "xefpp5Ni4LVL",
        "outputId": "66ed9d87-034b-498e-bc8a-8c451ece91f5"
      },
      "execution_count": 59,
      "outputs": [
        {
          "output_type": "stream",
          "name": "stdout",
          "text": [
            "=== Executing: ===\n",
            "%history -n 1-7\n",
            "=== Output: ===\n",
            "   1:\n",
            "import platform\n",
            "platform.platform()\n",
            "   2: !cat /etc/issue.net\n",
            "   3: !cat /proc/cpuinfo\n",
            "   4: !cat /proc/meminfo\n",
            "   5: !df -h\n",
            "   6: !python --version\n",
            "   7: *Error?\n"
          ]
        }
      ]
    },
    {
      "cell_type": "markdown",
      "source": [
        "### (7) 셀 명령어\n",
        "  - 텍스트 기반의 셀 명령어(운영체제 명령어) 처리\n",
        "  - !문자를 명령어 앞에 붙여서 셀 명령어 사용 가능"
      ],
      "metadata": {
        "id": "CFoOCbZ_zeHm"
      }
    },
    {
      "cell_type": "markdown",
      "source": [
        "  - ls : 디렉토리 리스트 보기"
      ],
      "metadata": {
        "id": "bwpT11bE4yDx"
      }
    },
    {
      "cell_type": "code",
      "source": [
        "!ls"
      ],
      "metadata": {
        "colab": {
          "base_uri": "https://localhost:8080/"
        },
        "id": "ZJO7vxZ35eRn",
        "outputId": "372531b6-433e-4138-9c1d-f4968265386b"
      },
      "execution_count": 60,
      "outputs": [
        {
          "output_type": "stream",
          "name": "stdout",
          "text": [
            "drive  sample_data  test.py  test.txt\n"
          ]
        }
      ]
    },
    {
      "cell_type": "markdown",
      "source": [
        "  - pwd : 현재 경로 보기"
      ],
      "metadata": {
        "id": "9xeFFnR24xyr"
      }
    },
    {
      "cell_type": "code",
      "source": [
        "!pwd"
      ],
      "metadata": {
        "colab": {
          "base_uri": "https://localhost:8080/"
        },
        "id": "7n4YmHWx5fCC",
        "outputId": "0dc175fe-a079-4199-bb04-ce2c89cd3ce7"
      },
      "execution_count": 61,
      "outputs": [
        {
          "output_type": "stream",
          "name": "stdout",
          "text": [
            "/content\n"
          ]
        }
      ]
    },
    {
      "cell_type": "markdown",
      "source": [
        "  - cd : 디렉토리 변경\n",
        "  - IPython에서는 임시 셀에서 실행"
      ],
      "metadata": {
        "id": "Dk01_Ev15WLM"
      }
    },
    {
      "cell_type": "code",
      "source": [
        "!cd sample_data/ && ls"
      ],
      "metadata": {
        "colab": {
          "base_uri": "https://localhost:8080/"
        },
        "id": "LVuuV0Pf5fpn",
        "outputId": "e9c2fc34-e752-4f7e-e02e-703aa56a0fef"
      },
      "execution_count": 62,
      "outputs": [
        {
          "output_type": "stream",
          "name": "stdout",
          "text": [
            "anscombe.json\t\t      mnist_test.csv\n",
            "california_housing_test.csv   mnist_train_small.csv\n",
            "california_housing_train.csv  README.md\n"
          ]
        }
      ]
    },
    {
      "cell_type": "markdown",
      "source": [
        "  - %cd : 지속적인 디렉토리 변경"
      ],
      "metadata": {
        "id": "cxxVLgGx6e_E"
      }
    },
    {
      "cell_type": "code",
      "source": [
        "%cd sample_data/"
      ],
      "metadata": {
        "colab": {
          "base_uri": "https://localhost:8080/"
        },
        "id": "KFVHXGwP6wI8",
        "outputId": "ceb1333a-f433-4d5e-eec1-83bbb709d67d"
      },
      "execution_count": 63,
      "outputs": [
        {
          "output_type": "stream",
          "name": "stdout",
          "text": [
            "/content/sample_data\n"
          ]
        }
      ]
    },
    {
      "cell_type": "markdown",
      "source": [
        "   - echo : 화면 출력"
      ],
      "metadata": {
        "id": "JVsKyHQZ7nmF"
      }
    },
    {
      "cell_type": "code",
      "source": [
        " !echo \"Shell\""
      ],
      "metadata": {
        "colab": {
          "base_uri": "https://localhost:8080/"
        },
        "id": "pWhZF-EI6nty",
        "outputId": "547defab-af7f-46e2-ee76-68bf4294bcea"
      },
      "execution_count": 64,
      "outputs": [
        {
          "output_type": "stream",
          "name": "stdout",
          "text": [
            "Shell\n"
          ]
        }
      ]
    },
    {
      "cell_type": "markdown",
      "source": [
        "  - mkdir : 디렉토리 생성"
      ],
      "metadata": {
        "id": "l_q_KOZY7W65"
      }
    },
    {
      "cell_type": "code",
      "source": [
        "!mkdir tmp"
      ],
      "metadata": {
        "id": "XsUmN-qo6vLQ"
      },
      "execution_count": 65,
      "outputs": []
    },
    {
      "cell_type": "code",
      "source": [
        "!ls"
      ],
      "metadata": {
        "colab": {
          "base_uri": "https://localhost:8080/"
        },
        "id": "F-k13Qkr7i-m",
        "outputId": "a933528f-8c32-431a-bc27-b3c81bed06c2"
      },
      "execution_count": 66,
      "outputs": [
        {
          "output_type": "stream",
          "name": "stdout",
          "text": [
            "anscombe.json\t\t      mnist_test.csv\t     tmp\n",
            "california_housing_test.csv   mnist_train_small.csv\n",
            "california_housing_train.csv  README.md\n"
          ]
        }
      ]
    },
    {
      "cell_type": "markdown",
      "source": [
        "  - cat : 파일 보기"
      ],
      "metadata": {
        "id": "wx5hhokP7exu"
      }
    },
    {
      "cell_type": "code",
      "source": [
        "!cat README.md"
      ],
      "metadata": {
        "colab": {
          "base_uri": "https://localhost:8080/"
        },
        "id": "VKx4YTtz8HNa",
        "outputId": "35c29301-88f8-4cd6-b76d-16e3c190ebee"
      },
      "execution_count": 67,
      "outputs": [
        {
          "output_type": "stream",
          "name": "stdout",
          "text": [
            "This directory includes a few sample datasets to get you started.\n",
            "\n",
            "*   `california_housing_data*.csv` is California housing data from the 1990 US\n",
            "    Census; more information is available at:\n",
            "    https://developers.google.com/machine-learning/crash-course/california-housing-data-description\n",
            "\n",
            "*   `mnist_*.csv` is a small sample of the\n",
            "    [MNIST database](https://en.wikipedia.org/wiki/MNIST_database), which is\n",
            "    described at: http://yann.lecun.com/exdb/mnist/\n",
            "\n",
            "*   `anscombe.json` contains a copy of\n",
            "    [Anscombe's quartet](https://en.wikipedia.org/wiki/Anscombe%27s_quartet); it\n",
            "    was originally described in\n",
            "\n",
            "    Anscombe, F. J. (1973). 'Graphs in Statistical Analysis'. American\n",
            "    Statistician. 27 (1): 17-21. JSTOR 2682899.\n",
            "\n",
            "    and our copy was prepared by the\n",
            "    [vega_datasets library](https://github.com/altair-viz/vega_datasets/blob/4f67bdaad10f45e3549984e17e1b3088c731503d/vega_datasets/_data/anscombe.json).\n"
          ]
        }
      ]
    },
    {
      "cell_type": "markdown",
      "source": [
        "  - cp : 디렉토리/파일 복사"
      ],
      "metadata": {
        "id": "dCk58agN74-I"
      }
    },
    {
      "cell_type": "code",
      "source": [
        "!cp README.md tmp/"
      ],
      "metadata": {
        "id": "01_sDorS8H4C"
      },
      "execution_count": 68,
      "outputs": []
    },
    {
      "cell_type": "code",
      "source": [
        "!ls tmp/"
      ],
      "metadata": {
        "colab": {
          "base_uri": "https://localhost:8080/"
        },
        "id": "qvuQ7VmA8WBa",
        "outputId": "695de5f3-4295-49a3-c45e-07a676979328"
      },
      "execution_count": 69,
      "outputs": [
        {
          "output_type": "stream",
          "name": "stdout",
          "text": [
            "README.md\n"
          ]
        }
      ]
    },
    {
      "cell_type": "markdown",
      "source": [
        "  - rm : 디렉토리/파일 삭제"
      ],
      "metadata": {
        "id": "bHfnCAz38WYT"
      }
    },
    {
      "cell_type": "code",
      "source": [
        "!rm -r tmp"
      ],
      "metadata": {
        "id": "mchQ_N-S8qWW"
      },
      "execution_count": 70,
      "outputs": []
    },
    {
      "cell_type": "code",
      "source": [
        "!ls"
      ],
      "metadata": {
        "colab": {
          "base_uri": "https://localhost:8080/"
        },
        "id": "tuhgJHAC8rO1",
        "outputId": "53a10abe-f915-42f1-a826-e7ab0273948d"
      },
      "execution_count": 71,
      "outputs": [
        {
          "output_type": "stream",
          "name": "stdout",
          "text": [
            "anscombe.json\t\t      mnist_test.csv\n",
            "california_housing_test.csv   mnist_train_small.csv\n",
            "california_housing_train.csv  README.md\n"
          ]
        }
      ]
    },
    {
      "cell_type": "markdown",
      "source": [
        "# 3. Markdown\n",
        "  - 문법이 간단하고 사용이 쉬움"
      ],
      "metadata": {
        "id": "jhgYIhMVhHbV"
      }
    },
    {
      "cell_type": "markdown",
      "source": [
        "### (1) 제목(Heading) 표시"
      ],
      "metadata": {
        "id": "qVsrFQDtzsVc"
      }
    },
    {
      "cell_type": "code",
      "source": [
        "# Heading 1\n",
        "## Heading 2\n",
        "### Heading 3\n",
        "#### Heading 4\n",
        "##### Heading 5\n",
        "###### Heading 6"
      ],
      "metadata": {
        "id": "vgLJbbeFRDof"
      },
      "execution_count": null,
      "outputs": []
    },
    {
      "cell_type": "markdown",
      "source": [
        "# Heading 1\n",
        "## Heading 2\n",
        "### Heading 3\n",
        "#### Heading 4\n",
        "##### Heading 5\n",
        "###### Heading 6"
      ],
      "metadata": {
        "id": "kWVwQ8Dv87Ru"
      }
    },
    {
      "cell_type": "markdown",
      "source": [
        "### (2) 목록(List) 구성"
      ],
      "metadata": {
        "id": "z5vwnZZZzywB"
      }
    },
    {
      "cell_type": "code",
      "execution_count": null,
      "metadata": {
        "id": "S4B0xeKXgx5b"
      },
      "outputs": [],
      "source": [
        "1. 첫째\n",
        "2. 둘째\n",
        "3. 셋째\n",
        "* 1단계\n",
        "  + 2단계\n",
        "    - 3단계"
      ]
    },
    {
      "cell_type": "markdown",
      "source": [
        "1. 첫째\n",
        "2. 둘째\n",
        "3. 셋째\n",
        "* 1단계\n",
        "  + 2단계\n",
        "    - 3단계"
      ],
      "metadata": {
        "id": "DRKKKVS-RXfo"
      }
    },
    {
      "cell_type": "markdown",
      "source": [
        "### (3) 폰트 스타일(Font Style)"
      ],
      "metadata": {
        "id": "Zfvr6wBoRbTl"
      }
    },
    {
      "cell_type": "code",
      "source": [
        "**bold**\n",
        "__bold__\n",
        "*italic*\n",
        "_italic_\n",
        "~~strike~~\n",
        "<u>underbar</u>"
      ],
      "metadata": {
        "id": "1yG9n19ZR_Gx"
      },
      "execution_count": null,
      "outputs": []
    },
    {
      "cell_type": "markdown",
      "source": [
        "**bold**\n",
        "__bold__\n",
        "*italic*\n",
        "_italic_\n",
        "~~strike~~\n",
        "<u>underbar</u>"
      ],
      "metadata": {
        "id": "_ZcnE8Y4ScXI"
      }
    },
    {
      "cell_type": "markdown",
      "source": [
        "### (4) 인용구"
      ],
      "metadata": {
        "id": "f3k4aecURbyJ"
      }
    },
    {
      "cell_type": "code",
      "source": [
        "> 인용 1\n",
        ">> 인용 2\n",
        ">>> 인용 3"
      ],
      "metadata": {
        "id": "aURmHiRFStFz"
      },
      "execution_count": null,
      "outputs": []
    },
    {
      "cell_type": "markdown",
      "source": [
        "> 인용 1\n",
        ">> 인용 2\n",
        ">>> 인용 3"
      ],
      "metadata": {
        "id": "LH-z33iWSu_5"
      }
    },
    {
      "cell_type": "markdown",
      "source": [
        "### (5) 링크"
      ],
      "metadata": {
        "id": "fcZE6W67Rb4x"
      }
    },
    {
      "cell_type": "code",
      "source": [
        "[Google](https://www.google.com)"
      ],
      "metadata": {
        "id": "kaBOOAdeRdBD"
      },
      "execution_count": null,
      "outputs": []
    },
    {
      "cell_type": "markdown",
      "source": [
        "[Google](https://www.google.com)"
      ],
      "metadata": {
        "id": "ubx0dyOnS81A"
      }
    },
    {
      "cell_type": "markdown",
      "source": [
        "### (6) 이미지"
      ],
      "metadata": {
        "id": "0yrC2FBDRcB1"
      }
    },
    {
      "cell_type": "code",
      "source": [
        "![이미지](https://www.google.co.kr/images/branding/googlelogo/1x/googlelogo_color_272x92dp.png)"
      ],
      "metadata": {
        "id": "5eT8Rb3lS-TK"
      },
      "execution_count": null,
      "outputs": []
    },
    {
      "cell_type": "markdown",
      "source": [
        "![이미지](https://www.google.co.kr/images/branding/googlelogo/1x/googlelogo_color_272x92dp.png)"
      ],
      "metadata": {
        "id": "sphCses0S-ox"
      }
    },
    {
      "cell_type": "markdown",
      "source": [
        "### (7) 수평선"
      ],
      "metadata": {
        "id": "qkM7MXU9RcKX"
      }
    },
    {
      "cell_type": "code",
      "source": [
        "---"
      ],
      "metadata": {
        "id": "5gd_hc5kS_hf"
      },
      "execution_count": null,
      "outputs": []
    },
    {
      "cell_type": "markdown",
      "source": [
        "---"
      ],
      "metadata": {
        "id": "Koz-iWH2S_uB"
      }
    },
    {
      "cell_type": "markdown",
      "source": [
        "### (8) 표"
      ],
      "metadata": {
        "id": "ScQjROQCRcQz"
      }
    },
    {
      "cell_type": "code",
      "source": [
        "| c1 | c2 | c3 |\n",
        "|:---|---:|:--:|\n",
        "|d1|d2|d3|"
      ],
      "metadata": {
        "id": "HHIkA0-_TtNE"
      },
      "execution_count": null,
      "outputs": []
    },
    {
      "cell_type": "markdown",
      "source": [
        "| c1 | c2 | c3 |\n",
        "|:-----|-----:|:----:|\n",
        "|d1|d2|d3|"
      ],
      "metadata": {
        "id": "WOgklS95R7vv"
      }
    },
    {
      "cell_type": "markdown",
      "source": [
        "### (9) 코드"
      ],
      "metadata": {
        "id": "ITSY93RlUP8P"
      }
    },
    {
      "cell_type": "code",
      "source": [
        "'inline code'"
      ],
      "metadata": {
        "id": "dNcbthWTVC4X"
      },
      "execution_count": null,
      "outputs": []
    },
    {
      "cell_type": "code",
      "source": [
        "```\n",
        "block code\n",
        "```"
      ],
      "metadata": {
        "id": "1xmNjLT9VHvl"
      },
      "execution_count": null,
      "outputs": []
    },
    {
      "cell_type": "markdown",
      "source": [
        "'inline code'"
      ],
      "metadata": {
        "id": "e0QF4RNWUQPw"
      }
    },
    {
      "cell_type": "markdown",
      "source": [
        "```\n",
        "# 코드로 형식 지정됨\n",
        "def power(b, n):\n",
        "    return pow(b, n)\n",
        "```\n",
        "\n"
      ],
      "metadata": {
        "id": "SMH2kPFhUQhr"
      }
    },
    {
      "cell_type": "markdown",
      "source": [
        "### (10) 수식"
      ],
      "metadata": {
        "id": "7iIMZ5L4UQ2q"
      }
    },
    {
      "cell_type": "code",
      "source": [
        ""
      ],
      "metadata": {
        "id": "BKs7Bf7mWRee"
      },
      "execution_count": null,
      "outputs": []
    },
    {
      "cell_type": "markdown",
      "source": [
        ""
      ],
      "metadata": {
        "id": "NCAdYpzCWQRs"
      }
    },
    {
      "cell_type": "code",
      "source": [
        ""
      ],
      "metadata": {
        "id": "kMBQZdYKWSMj"
      },
      "execution_count": null,
      "outputs": []
    },
    {
      "cell_type": "markdown",
      "source": [
        ""
      ],
      "metadata": {
        "id": "Kch3tU5OWQrh"
      }
    }
  ]
}